{
 "cells": [
  {
   "cell_type": "markdown",
   "id": "0fc8d5a7",
   "metadata": {},
   "source": [
    "# Lok Sabha Election Results Analysis 2024"
   ]
  },
  {
   "cell_type": "markdown",
   "id": "1a9ad4f6",
   "metadata": {},
   "source": [
    "This analysis comprises a thorough investigation of the recently ended Lok Sabha election results, as obtained from the Election Commission of India's official website. Advanced web scraping techniques are used to precisely harvest and process data. Comprehensive data analysis yields key insights such as total seats gained by each party, winning percentages, the average margins, gender distribution , etc. The findings are gathered into a full report, which provides a thorough summary of the election results and allows for informed political and social decision-making."
   ]
  },
  {
   "cell_type": "markdown",
   "id": "706ce2b6",
   "metadata": {},
   "source": [
    "## Importing Libraries"
   ]
  },
  {
   "cell_type": "code",
   "execution_count": 33,
   "id": "11a281c6",
   "metadata": {},
   "outputs": [],
   "source": [
    "import requests\n",
    "from bs4 import BeautifulSoup as bs\n",
    "import pandas as pd"
   ]
  },
  {
   "cell_type": "markdown",
   "id": "c381cf33",
   "metadata": {},
   "source": [
    "## Retrieving the Data"
   ]
  },
  {
   "cell_type": "code",
   "execution_count": 34,
   "id": "b741f6b0",
   "metadata": {},
   "outputs": [],
   "source": [
    "url = \"https://results.eci.gov.in/\"\n",
    "response = requests.get(url)\n",
    "soup = bs(response.content, 'html.parser')"
   ]
  },
  {
   "cell_type": "markdown",
   "id": "76a58ace",
   "metadata": {},
   "source": [
    "## Locating the data"
   ]
  },
  {
   "cell_type": "code",
   "execution_count": 35,
   "id": "14208f82",
   "metadata": {},
   "outputs": [],
   "source": [
    "results = soup.find_all('div', class_='result')"
   ]
  },
  {
   "cell_type": "markdown",
   "id": "88ae2c0f",
   "metadata": {},
   "source": [
    "## Extracting the data"
   ]
  },
  {
   "cell_type": "code",
   "execution_count": 36,
   "id": "ab3bd91a",
   "metadata": {},
   "outputs": [],
   "source": [
    "data = []\n",
    "for result in results:\n",
    "    candidate = result.find('span', class_='candidate').text.strip()\n",
    "    party = result.find('span', class_='party').text.strip()\n",
    "    votes = int(result.find('span', class_='votes').text.strip().replace(',', ''))\n",
    "    state = result.find('span', class_='state').text.strip()\n",
    "    gender = result.find('span', class_='gender').text.strip()\n",
    "    previous_terms = int(result.find('span', class_='previous-terms').text.strip())\n",
    "    age = int(result.find('span', class_='age').text.strip())\n",
    "    winning_votes = int(result.find('span', class_='winning-votes').text.strip().replace(',', ''))\n",
    "    runner_up_votes = int(result.find('span', class_='runner-up-votes').text.strip().replace(',', ''))\n",
    "    data.append([candidate, party, votes, state, gender, previous_terms, age, winning_votes, runner_up_votes])"
   ]
  },
  {
   "cell_type": "markdown",
   "id": "ee0c2f44",
   "metadata": {},
   "source": [
    "## Creating a Dataframe"
   ]
  },
  {
   "cell_type": "code",
   "execution_count": 37,
   "id": "7cf82774",
   "metadata": {},
   "outputs": [],
   "source": [
    "columns = ['Candidate', 'Party', 'Votes', 'State', 'Gender', 'Previous Terms', 'Age', 'Winning Votes', 'Runner-up Votes']\n",
    "election_data = pd.DataFrame(data, columns=columns)"
   ]
  },
  {
   "cell_type": "markdown",
   "id": "f22c04b0",
   "metadata": {},
   "source": [
    "# "
   ]
  },
  {
   "cell_type": "markdown",
   "id": "80721eac",
   "metadata": {},
   "source": [
    "## Analysis of Data"
   ]
  },
  {
   "cell_type": "code",
   "execution_count": 38,
   "id": "8274f716",
   "metadata": {},
   "outputs": [],
   "source": [
    "total_seats_by_party = election_data['Party'].value_counts()"
   ]
  },
  {
   "cell_type": "code",
   "execution_count": 39,
   "id": "027a3fe1",
   "metadata": {},
   "outputs": [],
   "source": [
    "total_votes_by_party = election_data.groupby('Party')['Votes'].sum()\n",
    "winning_percentages = (total_seats_by_party / total_seats_by_party.sum()) * 100"
   ]
  },
  {
   "cell_type": "code",
   "execution_count": 40,
   "id": "3539ec72",
   "metadata": {},
   "outputs": [],
   "source": [
    "average_margin_by_party = election_data.groupby('Party')['Winning Votes'].mean()"
   ]
  },
  {
   "cell_type": "code",
   "execution_count": 41,
   "id": "31dc0cbe",
   "metadata": {},
   "outputs": [],
   "source": [
    "average_age_by_party = election_data.groupby('Party')['Age'].mean()"
   ]
  },
  {
   "cell_type": "code",
   "execution_count": 42,
   "id": "56f36eb2",
   "metadata": {},
   "outputs": [],
   "source": [
    "seats_by_state = election_data['State'].value_counts()"
   ]
  },
  {
   "cell_type": "code",
   "execution_count": 43,
   "id": "d695c999",
   "metadata": {},
   "outputs": [],
   "source": [
    "major_states = ['Uttar Pradesh', 'Maharashtra', 'Madhya Pradesh']\n",
    "party_performance_in_major_states = election_data[election_data['State'].isin(major_states)].groupby('Party')['Votes'].sum()"
   ]
  },
  {
   "cell_type": "code",
   "execution_count": 44,
   "id": "c43ced61",
   "metadata": {},
   "outputs": [],
   "source": [
    "total_votes_by_gender = election_data.groupby('Gender')['Votes'].sum()"
   ]
  },
  {
   "cell_type": "code",
   "execution_count": 45,
   "id": "11327249",
   "metadata": {},
   "outputs": [],
   "source": [
    "gender_distribution = election_data['Gender'].value_counts()"
   ]
  },
  {
   "cell_type": "code",
   "execution_count": 46,
   "id": "9c88e124",
   "metadata": {},
   "outputs": [],
   "source": [
    "first_time_winners = election_data[election_data['Previous Terms'] == 0].shape[0]"
   ]
  },
  {
   "cell_type": "code",
   "execution_count": 47,
   "id": "1baf46cb",
   "metadata": {},
   "outputs": [],
   "source": [
    "youngest_candidates_by_party = election_data.groupby('Party')['Age'].min()"
   ]
  },
  {
   "cell_type": "markdown",
   "id": "f9b1f848",
   "metadata": {},
   "source": [
    "# "
   ]
  },
  {
   "cell_type": "markdown",
   "id": "eefd5693",
   "metadata": {},
   "source": [
    "## Report Generation"
   ]
  },
  {
   "cell_type": "code",
   "execution_count": 50,
   "id": "66ff6ea7",
   "metadata": {},
   "outputs": [],
   "source": [
    "report = f\"\"\"\n",
    "Lok Sabha Election Report:\n",
    "\n",
    "1. Total seats won by each party:\n",
    "{total_seats_by_party.to_string()}\n",
    "\n",
    "2. Winning percentage of each party:\n",
    "{winning_percentages.to_string()}\n",
    "\n",
    "3. Average Margin by Party:\n",
    "{average_margin_by_party.to_string()}\n",
    "    \n",
    "4. Average Age by Party:\n",
    "{average_age_by_party.to_string()}\n",
    "\n",
    "5. State with the most seats:\n",
    "{seats_by_state.to_string()}\n",
    "\n",
    "6. Party performance in major states:\n",
    "{party_performance_in_major_states.to_string()}\n",
    "\n",
    "7. Total Number of Votes by Gender:\n",
    "{total_votes_by_gender.to_string()}\n",
    "\n",
    "8. Gender distribution of elected candidates:\n",
    "{gender_distribution.to_string()}\n",
    "\n",
    "9. Number of first-time winners:\n",
    "{first_time_winners}\n",
    "\n",
    "10. Party with the youngest candidates:\n",
    "{youngest_candidates_by_party.to_string()}\n",
    "\"\"\""
   ]
  },
  {
   "cell_type": "markdown",
   "id": "a42b606e",
   "metadata": {},
   "source": [
    "## Writing into the File"
   ]
  },
  {
   "cell_type": "code",
   "execution_count": 51,
   "id": "93268768",
   "metadata": {},
   "outputs": [
    {
     "name": "stdout",
     "output_type": "stream",
     "text": [
      "Report has been generated successfully!\n"
     ]
    }
   ],
   "source": [
    "with open(\"election_report.txt\", \"w\") as file:\n",
    "    file.write(report)\n",
    "\n",
    "print(\"Report has been generated successfully!\")"
   ]
  }
 ],
 "metadata": {
  "kernelspec": {
   "display_name": "Python 3 (ipykernel)",
   "language": "python",
   "name": "python3"
  },
  "language_info": {
   "codemirror_mode": {
    "name": "ipython",
    "version": 3
   },
   "file_extension": ".py",
   "mimetype": "text/x-python",
   "name": "python",
   "nbconvert_exporter": "python",
   "pygments_lexer": "ipython3",
   "version": "3.11.7"
  }
 },
 "nbformat": 4,
 "nbformat_minor": 5
}
